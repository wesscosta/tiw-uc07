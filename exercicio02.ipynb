{
 "cells": [
  {
   "cell_type": "markdown",
   "metadata": {},
   "source": [
    "Exercício 2.2\n",
    "Pratique o uso do interpretador do Python como uma calculadora:\n",
    "\n",
    "1. O volume de uma esfera com raio r é Fórmula – Volume de uma esfera.. Qual é o volume de uma esfera com raio 5?"
   ]
  },
  {
   "cell_type": "code",
   "execution_count": 3,
   "metadata": {},
   "outputs": [
    {
     "name": "stdout",
     "output_type": "stream",
     "text": [
      "523.3333333333334\n",
      "523.3333333333334\n"
     ]
    }
   ],
   "source": [
    "volumeEsfera = (4/3)*3.14*(5**3)\n",
    "volumeEsfera2 = (4*3.14*(5**3))/3\n",
    "print(volumeEsfera)\n",
    "print(volumeEsfera2)"
   ]
  },
  {
   "cell_type": "markdown",
   "metadata": {},
   "source": [
    "2. Suponha que o preço de capa de um livro seja R$ 24,95, mas as livrarias recebem um desconto de 40%. O transporte custa R$ 3,00 para o primeiro exemplar e 75 centavos para cada exemplar adicional. Qual é o custo total de atacado para 60 cópias?"
   ]
  },
  {
   "cell_type": "code",
   "execution_count": 13,
   "metadata": {},
   "outputs": [
    {
     "name": "stdout",
     "output_type": "stream",
     "text": [
      "Total de 945.45 reais\n"
     ]
    }
   ],
   "source": [
    "# Vanessa D.\n",
    "\n",
    "desconto = (24.95 - (24.95 * 40/100))*60\n",
    "transporte = 3\n",
    "adicional = 0.75 * 59\n",
    "tudo = (desconto + transporte + adicional)\n",
    "print(f\"Total de {tudo:.2f} reais\")"
   ]
  },
  {
   "cell_type": "code",
   "execution_count": 15,
   "metadata": {},
   "outputs": [
    {
     "name": "stdout",
     "output_type": "stream",
     "text": [
      "O custo total de atacado para 60 cópias é: None\n"
     ]
    }
   ],
   "source": [
    "def custoTotal(copias):\n",
    "  livroDesconto = 24.95 - (24.95 * 0.40)\n",
    "  preçoLivros = (livroDesconto * copias)\n",
    "  transporte = 3\n",
    "  if (copias > 1):\n",
    "    result = ((copias - 1) * 0.75 + transporte) + preçoLivros\n",
    "    return round(result, 2)\n",
    "  \n",
    "print(f\"O custo total de atacado para 60 cópias é: {custoTotal(60)}\")\n",
    "  "
   ]
  },
  {
   "cell_type": "markdown",
   "metadata": {},
   "source": [
    "3. Se eu sair da minha casa às 6:52 e correr 1 quilômetro a um certo passo (8min15s por quilômetro), então 3 quilômetros a um passo mais rápido (7min12s por quilômetro) e 1 quilômetro no mesmo passo usado em primeiro lugar, que horas chego em casa para o café da manhã?"
   ]
  },
  {
   "cell_type": "code",
   "execution_count": 39,
   "metadata": {},
   "outputs": [
    {
     "name": "stdout",
     "output_type": "stream",
     "text": [
      "7:30\n"
     ]
    }
   ],
   "source": [
    "#Convertendo em Segundos\n",
    "saida= ((6*60) + 52) *60\n",
    "time1 = ((8*60)+15) *2\n",
    "time2 = ((7*60)+12) *3\n",
    "\n",
    "#Somando tudo e convertendo em minutos\n",
    "tempoTotal= (saida + time1 +time2)/60\n",
    "\n",
    "def converter(time):\n",
    "  hora = int(time // 60)\n",
    "  minutos = int(time % 60)\n",
    "  print(f'{hora}:{minutos}')\n",
    "\n",
    "print(f'{converter(tempoTotal)}')"
   ]
  }
 ],
 "metadata": {
  "kernelspec": {
   "display_name": "Python 3",
   "language": "python",
   "name": "python3"
  },
  "language_info": {
   "codemirror_mode": {
    "name": "ipython",
    "version": 3
   },
   "file_extension": ".py",
   "mimetype": "text/x-python",
   "name": "python",
   "nbconvert_exporter": "python",
   "pygments_lexer": "ipython3",
   "version": "3.12.3"
  }
 },
 "nbformat": 4,
 "nbformat_minor": 2
}
