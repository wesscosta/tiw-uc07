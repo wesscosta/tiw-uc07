{
 "cells": [
  {
   "cell_type": "markdown",
   "metadata": {},
   "source": [
    "##EstruturaDeDecisao - Python"
   ]
  },
  {
   "cell_type": "markdown",
   "metadata": {},
   "source": [
    "1. Faça um Programa que peça dois números e imprima o maior deles."
   ]
  },
  {
   "cell_type": "code",
   "execution_count": 13,
   "metadata": {},
   "outputs": [
    {
     "name": "stdout",
     "output_type": "stream",
     "text": [
      "O número maior é: 5\n"
     ]
    }
   ],
   "source": [
    "num1 = int(input(\"Digite um número:\"))\n",
    "num2 = int(input(\"Digite outro número:\"))\n",
    "\n",
    "maior = max(num1, num2)\n",
    "if num1 == num2:\n",
    "  print(\"os numeros são iguais\")\n",
    "else:\n",
    "  print(\"O número maior é:\", maior)\n",
    "\n",
    "\n"
   ]
  },
  {
   "cell_type": "markdown",
   "metadata": {},
   "source": [
    "2. Faça um Programa que peça um valor e mostre na tela se o valor é positivo ou negativo."
   ]
  },
  {
   "cell_type": "code",
   "execution_count": 19,
   "metadata": {},
   "outputs": [
    {
     "name": "stdout",
     "output_type": "stream",
     "text": [
      "O número é positivo\n"
     ]
    }
   ],
   "source": [
    "number01 = float(input(\"Informe um número: \"))\n",
    "\n",
    "\n",
    "def exibirNumber(number01):\n",
    "  if (number01 > 0):\n",
    "    print(\"O número é positivo\")\n",
    "  elif (number01 == 0):\n",
    "    print(\"O número é neutro\")    \n",
    "  else:\n",
    "    print(\"O número é negativo\")\n",
    "  \n",
    "exibirNumber(number01)"
   ]
  },
  {
   "cell_type": "markdown",
   "metadata": {},
   "source": [
    "3. Faça um Programa que verifique se uma letra digitada é \"F\" ou \"M\". Conforme a letra escrever: F - Feminino, M - Masculino, Sexo Inválido."
   ]
  },
  {
   "cell_type": "code",
   "execution_count": 22,
   "metadata": {},
   "outputs": [
    {
     "name": "stdout",
     "output_type": "stream",
     "text": [
      "Sexo inválido\n"
     ]
    }
   ],
   "source": [
    "sexo = input('digite seu sexo: M ou F ')\n",
    "genero = sexo.upper()\n",
    "if genero == \"M\":\n",
    "  print('Sexo masculino')\n",
    "elif genero == \"F\":\n",
    "  print('Sexo feminino')\n",
    "else:\n",
    "  print('Sexo inválido')"
   ]
  },
  {
   "cell_type": "markdown",
   "metadata": {},
   "source": [
    "4. Faça um Programa que verifique se uma letra digitada é vogal ou consoante."
   ]
  },
  {
   "cell_type": "code",
   "execution_count": 32,
   "metadata": {},
   "outputs": [
    {
     "name": "stdout",
     "output_type": "stream",
     "text": [
      "Consoante\n"
     ]
    }
   ],
   "source": [
    "vogais = ['a', 'e', 'i', 'o', 'u']\n",
    "\n",
    "letra = input('Informe uma letra: ')\n",
    "\n",
    "print('Vogal' if letra.lower() in vogais else 'Consoante')"
   ]
  },
  {
   "cell_type": "markdown",
   "metadata": {},
   "source": [
    "5. Faça um programa para a leitura de duas notas parciais de um aluno. O programa deve calcular a média alcançada por aluno e apresentar:\n",
    "- A mensagem \"Aprovado\", se a média alcançada for maior ou igual a sete;\n",
    "- A mensagem \"Reprovado\", se a média for menor do que sete;\n",
    "- A mensagem \"Aprovado com Distinção\", se a média for igual a dez."
   ]
  },
  {
   "cell_type": "code",
   "execution_count": 40,
   "metadata": {},
   "outputs": [
    {
     "name": "stdout",
     "output_type": "stream",
     "text": [
      "Média 7.0. Situação: Aprovado!\n"
     ]
    }
   ],
   "source": [
    "def calcularMedia(nota1, nota2):\n",
    "  resultado = (nota1 + nota2) / 2\n",
    "  if (resultado >= 7 and resultado < 10):\n",
    "    return f\"Média {resultado}. Situação: Aprovado!\"\n",
    "  elif (resultado == 10):\n",
    "    return f\"Média {resultado}. Situação: Aprovado com Dinstinção\"\n",
    "  else:\n",
    "    return f\"Média {resultado}. Situação: Reprovado\"\n",
    "  \n",
    "n1 = float(input(\"Informe a primeira nota: \"))\n",
    "n2 = float(input(\"Informe a segunda nota: \"))\n",
    "print(calcularMedia(n1, n2))"
   ]
  },
  {
   "cell_type": "markdown",
   "metadata": {},
   "source": [
    "6. Faça um Programa que leia três números e mostre o maior deles.\n"
   ]
  },
  {
   "cell_type": "code",
   "execution_count": 46,
   "metadata": {},
   "outputs": [
    {
     "name": "stdout",
     "output_type": "stream",
     "text": [
      "o maior número é 33\n"
     ]
    }
   ],
   "source": [
    "numero1 = int(input(\"digite um número\"))\n",
    "numero2 = int(input(\"digite outro número\"))\n",
    "numero3 = int(input(\"digite mais outro número\"))\n",
    "\n",
    "maior = max(numero1, numero2, numero3)\n",
    "if numero1 == numero2 == numero3:\n",
    " print(\"os números são iguais\")\n",
    "else:\n",
    " print(\"o maior número é\", maior)"
   ]
  },
  {
   "cell_type": "markdown",
   "metadata": {},
   "source": [
    "7. Faça um Programa que leia três números e mostre o maior e o menor deles."
   ]
  },
  {
   "cell_type": "code",
   "execution_count": 50,
   "metadata": {},
   "outputs": [
    {
     "name": "stdout",
     "output_type": "stream",
     "text": [
      "O número maior é 50\n",
      "O número menor é -8\n"
     ]
    }
   ],
   "source": [
    "number = int(input(\"Digite um número.\"))\n",
    "number2 = int(input(\"Digite outro número.\"))\n",
    "number3 = int(input(\"Digite outro número.\"))\n",
    "\n",
    "maior = max(number, number2,number3)\n",
    "if number == number2 == number3:\n",
    "  print(\"Os números são iguais.\")\n",
    "else: \n",
    "  print(f\"O número maior é {maior}\")\n",
    "  \n",
    "menor = min(number, number2, number3)\n",
    "if number == number2 == number3:\n",
    "  print(\"Os números são iguais.\")\n",
    "else: \n",
    "  print(f\"O número menor é {menor}\")"
   ]
  },
  {
   "cell_type": "markdown",
   "metadata": {},
   "source": [
    "8. Faça um programa que pergunte o preço de três produtos e informe qual produto você deve comprar, sabendo que a decisão é sempre pelo mais barato."
   ]
  },
  {
   "cell_type": "code",
   "execution_count": 52,
   "metadata": {},
   "outputs": [
    {
     "name": "stdout",
     "output_type": "stream",
     "text": [
      "1.5\n"
     ]
    }
   ],
   "source": [
    "produtos = []\n",
    "\n",
    "for i in range(3):\n",
    "  produtos.append(float(input(f\"Digite o {i+1} valor:\")))\n",
    "  \n",
    "def decisao(valor):\n",
    "    return min(valor)\n",
    "  \n",
    "print(decisao(produtos))"
   ]
  },
  {
   "cell_type": "markdown",
   "metadata": {},
   "source": [
    "09. Faça um Programa que leia três números e mostre-os em ordem decrescente."
   ]
  },
  {
   "cell_type": "code",
   "execution_count": 57,
   "metadata": {},
   "outputs": [
    {
     "name": "stdout",
     "output_type": "stream",
     "text": [
      "ordem decrescente (50, 10, 9)\n"
     ]
    }
   ],
   "source": [
    "num1=int(input(\"Digite um numero\"))\n",
    "num2=int(input(\"Digite o segundo numero\"))\n",
    "num3=int(input(\"Digite terceiro numero\"))\n",
    "\n",
    "maior = max(num1,num2,num3)\n",
    "menor = min(num1,num2,num3)\n",
    "meio = (num1 + num2 + num3)-maior-menor\n",
    "print(f\"ordem decrescente {maior,meio,menor}\")\n"
   ]
  },
  {
   "cell_type": "code",
   "execution_count": 64,
   "metadata": {},
   "outputs": [
    {
     "name": "stdout",
     "output_type": "stream",
     "text": [
      "[70, 6, 5]\n"
     ]
    }
   ],
   "source": [
    "lista = []\n",
    "for i in range(3):\n",
    "  lista.append(int(input(\"Digite um numero\")))\n",
    "  \n",
    "\n",
    "print(sorted(lista, reverse=True))"
   ]
  },
  {
   "cell_type": "markdown",
   "metadata": {},
   "source": [
    "10. Faça um Programa que pergunte em que turno você estuda. Peça para digitar M-matutino ou V-Vespertino ou N- Noturno. Imprima a mensagem \"Bom Dia!\", \"Boa Tarde!\" ou \"Boa Noite!\" ou \"Valor Inválido!\", conforme o caso."
   ]
  },
  {
   "cell_type": "code",
   "execution_count": 68,
   "metadata": {},
   "outputs": [
    {
     "name": "stdout",
     "output_type": "stream",
     "text": [
      "VALOR INVÁLIDO\n"
     ]
    }
   ],
   "source": [
    "turno = input(\"Em qual turno você estuda? (M matutino,V vespertino, N noturno)\")\n",
    "if turno.upper() ==  'M':\n",
    "  print(\"BOM DIA!\")\n",
    "elif turno.upper() ==  'V':\n",
    "  print(\"BOA TARDE!\")\n",
    "elif turno.upper() ==  'N':\n",
    "  print(\"BOA NOITE!\")\n",
    "else:\n",
    "  print(\"VALOR INVÁLIDO\")\n"
   ]
  },
  {
   "cell_type": "markdown",
   "metadata": {},
   "source": [
    "11. As Organizações Tabajara resolveram dar um aumento de salário aos seus colaboradores e lhe contraram para desenvolver o programa que calculará os reajustes.\n",
    "Faça um programa que recebe o salário de um colaborador e o reajuste segundo o seguinte critério, baseado no salário atual:\n",
    "- salários até R$ 280,00 (incluindo) : aumento de 20%\n",
    "- salários entre R$ 280,00 e R$ 700,00 : aumento de 15%\n",
    "- salários entre R$ 700,00 e R$ 1500,00 : aumento de 10%\n",
    "- salários de R$ 1500,00 em diante : aumento de 5% Após o aumento ser realizado, informe na tela:\n",
    "- o salário antes do reajuste;\n",
    "- o percentual de aumento aplicado;\n",
    "- o valor do aumento;\n",
    "- o novo salário, após o aumento."
   ]
  },
  {
   "cell_type": "code",
   "execution_count": 76,
   "metadata": {},
   "outputs": [
    {
     "name": "stdout",
     "output_type": "stream",
     "text": [
      "Salário atual: 500.0, aumento em reais R$10.0, aumento em 0.40%, Salário após ajuste:R$ 510.0\n"
     ]
    }
   ],
   "source": [
    "def reajuste(salarioAtual, aumento):\n",
    "  pencentualAumento = (aumento / 100)\n",
    "  pencentualPorcem = (100 * aumento/salarioAtual)\n",
    "  aumento = salarioAtual * pencentualAumento\n",
    "  salarioReajustado = salarioAtual + aumento\n",
    "  return f\"Salário atual: {salarioAtual}, aumento em reais R${aumento}, aumento em {pencentualPorcem:.2F}%, Salário após ajuste:R$ {salarioReajustado}\"\n",
    "\n",
    "salarioAtual = float(input(\"Informe seu salário\"))\n",
    "aumento = float(input(\"Informe seu aumento\"))\n",
    "print(reajuste(salarioAtual, aumento))"
   ]
  },
  {
   "cell_type": "markdown",
   "metadata": {},
   "source": [
    "12. Faça um programa para o cálculo de uma folha de pagamento, sabendo que os descontos são do Imposto de Renda, que depende do salário bruto (conforme tabela abaixo) e 3% para o Sindicato e que o FGTS corresponde a 11% do Salário Bruto, mas não é descontado (é a empresa que deposita). O Salário Líquido corresponde ao Salário Bruto menos os descontos. O programa deverá pedir ao usuário o valor da sua hora e a quantidade de horas trabalhadas no mês.\n",
    "Desconto do IR:\n",
    "- Salário Bruto até 900 (inclusive) - isento\n",
    "- Salário Bruto até 1500 (inclusive) - desconto de 5%\n",
    "- Salário Bruto até 2500 (inclusive) - desconto de 10%\n",
    "- Salário Bruto acima de 2500 - desconto de 20% Imprima na tela as informações"
   ]
  },
  {
   "cell_type": "code",
   "execution_count": 98,
   "metadata": {},
   "outputs": [
    {
     "name": "stdout",
     "output_type": "stream",
     "text": [
      "Salário Bruto: 900.00\n",
      "Desconto Sindicato: 27.00\n",
      "Desconto IR: 0.00\n",
      "FGTS: 99.00\n",
      "Salario liquido: 873.00\n"
     ]
    }
   ],
   "source": [
    "def definirSalario(horasTrabalhadas, ganhoHora):\n",
    "  salarioBruto = horasTrabalhadas * ganhoHora\n",
    "  descontoSindicato = salarioBruto * 0.03\n",
    "  fgts = salarioBruto * 0.11\n",
    "  descontoIr = ''\n",
    "  salarioLiquido = 0\n",
    "  if salarioBruto <= 900:\n",
    "    descontoIr = 0\n",
    "    salarioLiquido = salarioBruto - descontoSindicato\n",
    "  elif salarioBruto <= 1500:\n",
    "    descontoIr = salarioBruto * 0.05\n",
    "    salarioLiquido = salarioBruto - descontoSindicato - descontoIr\n",
    "  elif salarioBruto <= 2500:\n",
    "    descontoIr = salarioBruto * 0.10\n",
    "    salarioLiquido = salarioBruto - descontoSindicato - descontoIr\n",
    "  else:\n",
    "    descontoIr = salarioBruto * 0.20\n",
    "    salarioLiquido = salarioBruto - descontoSindicato - descontoIr\n",
    "  \n",
    "  print(f\"Salário Bruto: {salarioBruto:.2f}\")\n",
    "  print(f\"Desconto Sindicato: {descontoSindicato:.2f}\")\n",
    "  print(f\"Desconto IR: {descontoIr:.2f}\")\n",
    "  print(f\"FGTS: {fgts:.2f}\")\n",
    "  print(f\"Salario liquido: {salarioLiquido:.2f}\")\n",
    "  \n",
    "ganhoH = float(input(\"Digite seu ganho por hora: \"))\n",
    "hTrabalhadas = float(input(\"Digite quantas horas você trabalha no mês: \"))\n",
    "definirSalario(hTrabalhadas, ganhoH)"
   ]
  },
  {
   "cell_type": "markdown",
   "metadata": {},
   "source": [
    "13. Faça um Programa que leia um número e exiba o dia correspondente da semana. (1-Domingo, 2- Segunda, etc.), se digitar outro valor deve aparecer valor inválido.\n"
   ]
  },
  {
   "cell_type": "code",
   "execution_count": 82,
   "metadata": {},
   "outputs": [
    {
     "name": "stdout",
     "output_type": "stream",
     "text": [
      "O dia da semana é Quinta-feira.\n"
     ]
    }
   ],
   "source": [
    "num = int(input(\"Digite um número:\"))\n",
    "if num == 1:\n",
    "  print(\"O dia da semana é Domingo.\")\n",
    "elif num == 2:\n",
    "  print(\"O dia da semana é Segunda-feira.\")\n",
    "elif num == 3:\n",
    "  print(\"O dia da semana é Terça-feira.\")\n",
    "elif num == 4:\n",
    "  print(\"O dia da semana é Quarta-feira.\")\n",
    "elif num == 5:\n",
    "  print(\"O dia da semana é Quinta-feira.\")\n",
    "elif num == 6:\n",
    "  print(\"O dia da semana é Sexta-feira.\")\n",
    "elif num == 7:\n",
    "  print(\"O dia da semana é Sábado.\")\n",
    "else:\n",
    "  print(\"Número inválido!\")\n",
    "  "
   ]
  },
  {
   "cell_type": "markdown",
   "metadata": {},
   "source": [
    "14. Faça um programa que lê as duas notas parciais obtidas por um aluno numa disciplina ao longo de um semestre, e calcule a sua média. A atribuição de conceitos obedece à tabela abaix"
   ]
  },
  {
   "cell_type": "code",
   "execution_count": 89,
   "metadata": {},
   "outputs": [
    {
     "name": "stdout",
     "output_type": "stream",
     "text": [
      "1º nota: 5.0\n",
      "2º nota: 8.0\n",
      "Média: 6.5\n",
      "Conceito: C\n",
      "Situação: Aprovado\n"
     ]
    }
   ],
   "source": [
    "notas = []\n",
    "\n",
    "#Lendo as duas notas\n",
    "for i in range(2):\n",
    "  notas.append(float(input(f'Informe a {i+1}º nota: ')))\n",
    "  \n",
    "#Imprimindo a nota\n",
    "for i, nota in enumerate(notas):\n",
    "  print(f'{i+1}º nota: {nota}')\n",
    "  \n",
    "#Média\n",
    "media = sum(notas) / 2\n",
    "\n",
    "#conceito\n",
    "def conceito(valor):\n",
    "  if valor > 9.0:\n",
    "    return 'A'\n",
    "  elif valor > 7.5:\n",
    "    return 'B'\n",
    "  elif valor > 6.0:\n",
    "    return 'C'\n",
    "  elif valor > 4.0:\n",
    "    return 'D'\n",
    "  else: \n",
    "    return 'E'\n",
    "  \n",
    "#Aprovado ou Reprovado\n",
    "def mensagem(valor):\n",
    "  return 'Aprovado' if conceito(valor) in ['A', 'B', 'C'] else 'Reprovado'\n",
    "  \n",
    "#Mostrando os valores\n",
    "print(f'Média: {media}')\n",
    "print(f'Conceito: {conceito(media)}')\n",
    "print(f'Situação: {mensagem(media)}')"
   ]
  },
  {
   "cell_type": "markdown",
   "metadata": {},
   "source": [
    "15. Faça um Programa que peça os 3 lados de um triângulo. O programa deverá informar se os valores podem ser um triângulo. Indique, caso os lados formem um triângulo, se o mesmo é: equilátero, isósceles ou escaleno.\n",
    "Dicas:\n",
    "- Três lados formam um triângulo quando a soma de quaisquer dois lados for maior que o terceiro;\n",
    "- Triângulo Equilátero: três lados iguais;\n",
    "- Triângulo Isósceles: quaisquer dois lados iguais;\n",
    "- Triângulo Escaleno: três lados diferentes;"
   ]
  },
  {
   "cell_type": "code",
   "execution_count": null,
   "metadata": {},
   "outputs": [],
   "source": []
  },
  {
   "cell_type": "markdown",
   "metadata": {},
   "source": [
    "16. Faça um programa que calcule as raízes de uma equação do segundo grau, na forma ax2 + bx + c. O programa deverá pedir os valores de a, b e c e fazer as consistências, informando ao usuário nas seguintes situações:\n",
    "Se o usuário informar o valor de A igual a zero, a equação não é do segundo grau e o programa não deve fazer pedir os demais valores, sendo encerrado;\n",
    "- Se o delta calculado for negativo, a equação não possui raizes reais. Informe ao usuário e encerre o programa;\n",
    "- Se o delta calculado for igual a zero a equação possui apenas uma raiz real; informe-a ao usuário;\n",
    "- Se o delta for positivo, a equação possui duas raiz reais; informe-as ao usuário;"
   ]
  },
  {
   "cell_type": "code",
   "execution_count": null,
   "metadata": {},
   "outputs": [],
   "source": []
  },
  {
   "cell_type": "markdown",
   "metadata": {},
   "source": [
    "17. Faça um Programa que peça um número correspondente a um determinado ano e em seguida informe se este ano é ou não bissexto."
   ]
  },
  {
   "cell_type": "code",
   "execution_count": 80,
   "metadata": {},
   "outputs": [
    {
     "name": "stdout",
     "output_type": "stream",
     "text": [
      "Esse ano não é bissexto\n"
     ]
    }
   ],
   "source": [
    "def bissexto(ano):\n",
    "  if (ano % 4 == 0):\n",
    "    return \"Esse ano é bissexto\"\n",
    "  else:\n",
    "    return \"Esse ano não é bissexto\"\n",
    "  \n",
    "ano = int(input(\"Digite um ano\"))\n",
    "print(bissexto(ano))"
   ]
  },
  {
   "cell_type": "markdown",
   "metadata": {},
   "source": [
    "18. Faça um Programa que peça uma data no formato dd/mm/aaaa e determine se a mesma é uma data válida.\n"
   ]
  },
  {
   "cell_type": "code",
   "execution_count": null,
   "metadata": {},
   "outputs": [],
   "source": []
  },
  {
   "cell_type": "markdown",
   "metadata": {},
   "source": [
    "19. Faça um Programa que leia um número inteiro menor que 1000 e imprima a quantidade de centenas, dezenas e unidades do mesmo.\n",
    "Observando os termos no plural a colocação do \"e\", da vírgula entre outros. Exemplo:\n",
    "- 326 = 3 centenas, 2 dezenas e 6 unidades\n",
    "- 12 = 1 dezena e 2 unidades Testar com: 326, 300, 100, 320, 310,305, 301, 101, 311, 111, 25, 20, 10, 21, 11, 1, 7 e 16"
   ]
  },
  {
   "cell_type": "code",
   "execution_count": null,
   "metadata": {},
   "outputs": [],
   "source": []
  }
 ],
 "metadata": {
  "kernelspec": {
   "display_name": "Python 3",
   "language": "python",
   "name": "python3"
  },
  "language_info": {
   "codemirror_mode": {
    "name": "ipython",
    "version": 3
   },
   "file_extension": ".py",
   "mimetype": "text/x-python",
   "name": "python",
   "nbconvert_exporter": "python",
   "pygments_lexer": "ipython3",
   "version": "3.12.3"
  }
 },
 "nbformat": 4,
 "nbformat_minor": 2
}
