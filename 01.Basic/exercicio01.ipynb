{
 "cells": [
  {
   "cell_type": "code",
   "execution_count": 1,
   "metadata": {},
   "outputs": [
    {
     "name": "stdout",
     "output_type": "stream",
     "text": [
      "Olá mundo\n"
     ]
    }
   ],
   "source": [
    "#01- Faça um Programa que mostre a mensagem \"Alo mundo\" na tela.\n",
    "print (\"Olá mundo\")"
   ]
  },
  {
   "cell_type": "code",
   "execution_count": 4,
   "metadata": {},
   "outputs": [
    {
     "name": "stdout",
     "output_type": "stream",
     "text": [
      "O número digitado foi: 10\n"
     ]
    }
   ],
   "source": [
    "#02 Faça um Programa que peça um número e então mostre a mensagem O número informado foi [número].\n",
    "\n",
    "num = input(\"Digite um número:\")\n",
    "print(f\"O número digitado foi: {num}\")\n"
   ]
  },
  {
   "cell_type": "code",
   "execution_count": 6,
   "metadata": {},
   "outputs": [
    {
     "name": "stdout",
     "output_type": "stream",
     "text": [
      "a soma dos numeros foi :30.0\n"
     ]
    }
   ],
   "source": [
    "#03 Faça um Programa que peça dois números e imprima a soma.\n",
    "\n",
    "numero1 = float(input('digite um numero: '))\n",
    "numero2 = float(input('digite outro numero: '))\n",
    "print(f'a soma dos numeros foi :{numero1 + numero2}')"
   ]
  },
  {
   "cell_type": "code",
   "execution_count": 9,
   "metadata": {},
   "outputs": [
    {
     "name": "stdout",
     "output_type": "stream",
     "text": [
      "A média das 4 notas é: 2.0\n"
     ]
    }
   ],
   "source": [
    "#04 Faça um Programa que peça as 4 notas bimestrais e mostre a média.\n",
    "\n",
    "somaNota = 0\n",
    "\n",
    "for x in range(4):\n",
    "  nota = float(input(f\"Digite a º{x+1} nota\"))\n",
    "  somaNota += nota\n",
    "\n",
    "calculoMedia = somaNota / 4\n",
    "print(f\"A média das 4 notas é: {calculoMedia}\")"
   ]
  },
  {
   "cell_type": "code",
   "execution_count": 11,
   "metadata": {},
   "outputs": [
    {
     "name": "stdout",
     "output_type": "stream",
     "text": [
      "Valor em centímetros: 1000.0.\n"
     ]
    }
   ],
   "source": [
    "#05 Faça um Programa que converta metros para centímetros.\n",
    "metro = float(input('Informe o valor em metros: '))\n",
    "\n",
    "def centimetros(valor):\n",
    "  return valor * 100;\n",
    "\n",
    "print(f'Valor em centímetros: {centimetros(metro)}.')"
   ]
  },
  {
   "cell_type": "code",
   "execution_count": 12,
   "metadata": {},
   "outputs": [
    {
     "name": "stdout",
     "output_type": "stream",
     "text": [
      "área do circulo: 314.0\n"
     ]
    }
   ],
   "source": [
    "#06 Faça um Programa que peça o raio de um círculo, calcule e mostre sua área.\n",
    "raio = float(input(\"Digite o valor do raio\"))\n",
    "area = 3.14 * raio**2\n",
    "print(\"área do circulo:\" , area)"
   ]
  },
  {
   "cell_type": "code",
   "execution_count": 14,
   "metadata": {},
   "outputs": [
    {
     "name": "stdout",
     "output_type": "stream",
     "text": [
      "O dobro da area do quadrado é: 200.0\n"
     ]
    }
   ],
   "source": [
    "#07 Faça um Programa que calcule a área de um quadrado, em seguida mostre o dobro desta área para o usuário.\n",
    "Base = float(input(\"Informe a base: \"))\n",
    "Altura = float(input(\"Informe a altura: \"))\n",
    "\n",
    "print(\"O dobro da area do quadrado é:\", (Base * Altura) * 2)"
   ]
  },
  {
   "cell_type": "code",
   "execution_count": 15,
   "metadata": {},
   "outputs": [
    {
     "name": "stdout",
     "output_type": "stream",
     "text": [
      "total do seu salário 200.0 \n"
     ]
    }
   ],
   "source": [
    "#08 Faça um Programa que pergunte quanto você ganha por hora e o número de horas trabalhadas no mês. Calcule e mostre o total do seu salário no referido mês.\n",
    "per = float(input (\"digite o valor da sua hora\"))\n",
    "pe =float( input(\"digite o números de horas trabalhadas\"))\n",
    "print (f\"total do seu salário {per*pe} \")"
   ]
  },
  {
   "cell_type": "code",
   "execution_count": 29,
   "metadata": {},
   "outputs": [
    {
     "name": "stdout",
     "output_type": "stream",
     "text": [
      "o seu resultado é:-12.222222222222221ºC\n"
     ]
    }
   ],
   "source": [
    "#09 Faça um Programa que peça a temperatura em graus Fahrenheit, transforme e mostre a temperatura em graus Celsius.\n",
    "#C = 5 * ((F-32) / 9).\n",
    "\n",
    "def fun_fahrenhait(f):\n",
    "  celsius = 5 * (f-32) / 9\n",
    "  return(celsius)\n",
    "\n",
    "valor1 = float(input('Digite o valor:'))\n",
    "\n",
    "print(f'o seu resultado é:{fun_fahrenhait(valor1)}ºC')\n",
    "\n"
   ]
  },
  {
   "cell_type": "code",
   "execution_count": 33,
   "metadata": {},
   "outputs": [
    {
     "name": "stdout",
     "output_type": "stream",
     "text": [
      "o seu resultado é:50.0\n"
     ]
    }
   ],
   "source": [
    "#10 Faça um Programa que peça a temperatura em graus Celsius, transforme e mostre em graus Fahrenheit.\n",
    "\n",
    "def fun_celsius(c):\n",
    "  fahrenhait = c * 1.8 + 32\n",
    "  return(fahrenhait)\n",
    "\n",
    "valor1 = float(input('Digite o seu valor:'))\n",
    "\n",
    "print(f'o seu resultado é:{fun_celsius(valor1)}')"
   ]
  },
  {
   "cell_type": "markdown",
   "metadata": {},
   "source": [
    "Faça um Programa que peça 2 números inteiros e um número real. Calcule e mostre\n",
    "o produto do dobro do primeiro com metade do segundo .\n",
    "a soma do triplo do primeiro com o terceiro.\n",
    "o terceiro elevado ao cubo."
   ]
  },
  {
   "cell_type": "code",
   "execution_count": 44,
   "metadata": {},
   "outputs": [
    {
     "name": "stdout",
     "output_type": "stream",
     "text": [
      "0 produto do dobro do primeiro com metade do segundo é: 100.0 \n",
      "a soma do triplo do primeiro com o terceiro é: 40.0\n",
      "o terceiro elevado ao cubo é: 1000.0\n"
     ]
    }
   ],
   "source": [
    "numberInt01 = int(input(\"Informe um número: \"))\n",
    "numberInt02 = int(input(\"Informe outro número: \"))\n",
    "numberFloat = float(input(\"Informe um número real: \"))\n",
    "\n",
    "def fun_produto(numberInt01, numberInt02):\n",
    "  return((numberInt01 * 2) * (numberInt02/2))\n",
    "\n",
    "def fun_soma(numberInt01, numberFloat):\n",
    "  return((numberInt01 * 3) + numberFloat)\n",
    "\n",
    "def fun_elevado(numberfloat):\n",
    "  return(numberfloat ** 3 )\n",
    "\n",
    "print(f\"0 produto do dobro do primeiro com metade do segundo é: {fun_produto(numberInt01,numberInt02 )} \")\n",
    "\n",
    "print(f\"a soma do triplo do primeiro com o terceiro é: {fun_soma(numberInt01,numberFloat)}\")\n",
    "\n",
    "print(f\"o terceiro elevado ao cubo é: {fun_elevado(numberFloat)}\")"
   ]
  },
  {
   "cell_type": "code",
   "execution_count": 47,
   "metadata": {},
   "outputs": [
    {
     "name": "stdout",
     "output_type": "stream",
     "text": [
      "seu peso ideal é 71.41\n"
     ]
    }
   ],
   "source": [
    "# Tendo como dados de entrada a altura de uma pessoa, construa um algoritmo que calcule seu peso ideal, usando a seguinte fórmula: (72.7*altura) - 58\n",
    "\n",
    "altura = float(input('digite sua altura: '))\n",
    "peso_ideal = (72.7*altura) - 58\n",
    "print(f'seu peso ideal é {peso_ideal:.2f}')"
   ]
  },
  {
   "cell_type": "code",
   "execution_count": 55,
   "metadata": {},
   "outputs": [
    {
     "name": "stdout",
     "output_type": "stream",
     "text": [
      "Peso ideal para o sexo feminino: 68.32\n"
     ]
    }
   ],
   "source": [
    "'''Tendo como dado de entrada a altura (h) de uma pessoa, construa um algoritmo que calcule seu peso ideal, utilizando as seguintes fórmulas:\n",
    "Para homens: (72.7*h) - 58\n",
    "Para mulheres: (62.1*h) - 44.7'''\n",
    "\n",
    "def pesoIdeal(altura, sexo):\n",
    "  if (sexo.lower() == 'm') or (sexo.lower() == 'masculino'):\n",
    "    return f'Peso ideal para o sexo masculino: {((72.7 * altura) - 58):.2f}'\n",
    "  elif (sexo.lower() == 'f') or (sexo.lower() == 'feminino'):\n",
    "    return f'Peso ideal para o sexo feminino: {((62.1 * altura) - 44.7):.2f}'\n",
    "  else:\n",
    "    return 'Sexo indefinido.'\n",
    "  \n",
    "altura = float(input('Informe sua  altura: '))\n",
    "sexo = input('Informe seu sexo: ')\n",
    "\n",
    "print(pesoIdeal(altura, sexo.strip()))"
   ]
  },
  {
   "cell_type": "markdown",
   "metadata": {},
   "source": [
    "14. João Papo-de-Pescador, homem de bem, comprou um microcomputador para controlar o rendimento diário de seu trabalho. Toda vez que ele traz um peso de peixes maior que o estabelecido pelo regulamento de pesca do estado de São Paulo (50 quilos) deve pagar uma multa de R$ 4,00 por quilo excedente. João precisa que você faça um programa que leia a variável peso (peso de peixes) e calcule o excesso. Gravar na variável excesso a quantidade de quilos além do limite e na variável multa o valor da multa que João deverá pagar. Imprima os dados do programa com as mensagens adequadas."
   ]
  },
  {
   "cell_type": "code",
   "execution_count": 63,
   "metadata": {},
   "outputs": [
    {
     "name": "stdout",
     "output_type": "stream",
     "text": [
      "Fique tranquilo, seu peso está dentro do regulamentado!\n"
     ]
    }
   ],
   "source": [
    "pesoDecretado = 50\n",
    "preço = 0\n",
    "peso = float(input(\"Quantos kg de peixes você pescou? \"))\n",
    "\n",
    "if peso > pesoDecretado:\n",
    "  preço = (peso - pesoDecretado) * 4\n",
    "  print(f\"Você não obedeceu o regulamento e deve pagar uma multa de: R$ {preço}\")\n",
    "else:\n",
    "  print(\"Fique tranquilo, seu peso está dentro do regulamentado!\") "
   ]
  },
  {
   "cell_type": "markdown",
   "metadata": {},
   "source": [
    "15 Faça um Programa que pergunte quanto você ganha por hora e o número de horas trabalhadas no mês. Calcule e mostre o total do seu salário no referido mês, sabendo-se que são descontados 11% para o Imposto de Renda, 8% para o INSS e 5% para o sindicato, faça um programa que nos dê:\n",
    "  a. salário bruto.\n",
    "  b. quanto pagou ao INSS.\n",
    "  c. quanto pagou ao sindicato.\n",
    "  d. o salário líquido.\n",
    "  e. calcule os descontos e o salário líquido, conforme a tabela abaixo:\n",
    "\n",
    "+ Salário Bruto : R$\n",
    "- IR (11%) : R$\n",
    "- INSS (8%) : R$\n",
    "- Sindicato ( 5%) : R$\n",
    "= Salário Liquido : R$"
   ]
  },
  {
   "cell_type": "code",
   "execution_count": 67,
   "metadata": {},
   "outputs": [
    {
     "name": "stdout",
     "output_type": "stream",
     "text": [
      "Salário Bruto :R$2000.0\n",
      "IR (11%): R$220.0\n",
      "INSS (8%): R$160.0\n",
      "Sindicato ( 5%): R$100.0 \n",
      "Salário Liquido: R$1520.0\n"
     ]
    }
   ],
   "source": [
    "ganho_por_hora = float(input(\"quanto vc ganha por horas\"))\n",
    "horas_trabalhadas = float(input(\"quanto vc  horas você trabalhas\"))\n",
    "\n",
    "salario_bruto = ganho_por_hora * horas_trabalhadas\n",
    "ir= salario_bruto*0.11 \n",
    "inss=salario_bruto*0.08\n",
    "sindicato= salario_bruto*0.05 \n",
    "salario_liquido = salario_bruto-ir-inss-sindicato\n",
    "\n",
    "print(f\"Salário Bruto :R${ salario_bruto }\")\n",
    "print(f\"IR (11%): R${ ir }\")\n",
    "print(f\"INSS (8%): R${ inss }\")\n",
    "print(f\"Sindicato ( 5%): R${sindicato} \")\n",
    "print(f\"Salário Liquido: R${ salario_liquido }\")"
   ]
  },
  {
   "cell_type": "markdown",
   "metadata": {},
   "source": [
    "16. Faça um programa para uma loja de tintas. O programa deverá pedir o tamanho em metros quadrados da área a ser pintada. Considere que a cobertura da tinta é de 1 litro para cada 3 metros quadrados e que a tinta é vendida em latas de 18 litros, que custam R$ 80,00. Informe ao usuário a quantidades de latas de tinta a serem compradas e o preço total.\n"
   ]
  },
  {
   "cell_type": "code",
   "execution_count": 72,
   "metadata": {},
   "outputs": [
    {
     "name": "stdout",
     "output_type": "stream",
     "text": [
      "Você precisará de 0 latas de tintas.\n",
      "O preço total será de R$0.00.\n"
     ]
    }
   ],
   "source": [
    "import math\n",
    "area = float(input(\"Digite a área a ser pintada em m²\"))\n",
    "litros = area / 3\n",
    "latas = math.ceil(litros / 18)\n",
    "preco_total = latas * 80\n",
    "print(f\"Você precisará de {latas} latas de tintas.\")\n",
    "print(f\"O preço total será de R${preco_total:.2f}.\")\n"
   ]
  },
  {
   "cell_type": "markdown",
   "metadata": {},
   "source": [
    "17. Faça um Programa para uma loja de tintas. O programa deverá pedir o tamanho em metros quadrados da área a ser pintada. Considere que a cobertura da tinta é de 1 litro para cada 6 metros quadrados e que a tinta é vendida em latas de 18 litros, que custam R$ 80,00 ou em galões de 3,6 litros, que custam R$ 25,00.\n",
    "Informe ao usuário as quantidades de tinta a serem compradas e os respectivos preços em 3 situações:\n",
    "comprar apenas latas de 18 litros;\n",
    "comprar apenas galões de 3,6 litros;\n",
    "misturar latas e galões, de forma que o desperdício de tinta seja menor. Acrescente 10% de folga e sempre arredonde os valores para cima, isto é, considere latas cheias.\n"
   ]
  },
  {
   "cell_type": "markdown",
   "metadata": {},
   "source": [
    "18. Faça um programa que peça o tamanho de um arquivo para download (em MB) e a velocidade de um link de Internet (em Mbps), calcule e informe o tempo aproximado de download do arquivo usando este link (em minutos)."
   ]
  },
  {
   "cell_type": "code",
   "execution_count": 3,
   "metadata": {},
   "outputs": [
    {
     "name": "stdout",
     "output_type": "stream",
     "text": [
      "o tempo aproximado do download é:3.33minutos\n"
     ]
    }
   ],
   "source": [
    "download = float(input('tamanho do arquivo em MB'))\n",
    "\n",
    "velocidade = float(input('velocidade do seu link em mbps'))\n",
    "\n",
    "velocidade /=8\n",
    "\n",
    "resultado=download/velocidade\n",
    "\n",
    "print(f'o tempo aproximado do download é:{resultado/60:.2F}minutos')"
   ]
  },
  {
   "cell_type": "markdown",
   "metadata": {},
   "source": []
  }
 ],
 "metadata": {
  "kernelspec": {
   "display_name": "Python 3",
   "language": "python",
   "name": "python3"
  },
  "language_info": {
   "codemirror_mode": {
    "name": "ipython",
    "version": 3
   },
   "file_extension": ".py",
   "mimetype": "text/x-python",
   "name": "python",
   "nbconvert_exporter": "python",
   "pygments_lexer": "ipython3",
   "version": "3.12.3"
  }
 },
 "nbformat": 4,
 "nbformat_minor": 2
}
