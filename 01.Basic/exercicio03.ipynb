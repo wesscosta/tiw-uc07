{
 "cells": [
  {
   "cell_type": "markdown",
   "metadata": {},
   "source": [
    "##EstruturaDeDecisao - Python"
   ]
  },
  {
   "cell_type": "markdown",
   "metadata": {},
   "source": [
    "1. Faça um Programa que peça dois números e imprima o maior deles."
   ]
  },
  {
   "cell_type": "code",
   "execution_count": 13,
   "metadata": {},
   "outputs": [
    {
     "name": "stdout",
     "output_type": "stream",
     "text": [
      "O número maior é: 5\n"
     ]
    }
   ],
   "source": [
    "num1 = int(input(\"Digite um número:\"))\n",
    "num2 = int(input(\"Digite outro número:\"))\n",
    "\n",
    "maior = max(num1, num2)\n",
    "if num1 == num2:\n",
    "  print(\"os numeros são iguais\")\n",
    "else:\n",
    "  print(\"O número maior é:\", maior)\n",
    "\n",
    "\n"
   ]
  },
  {
   "cell_type": "markdown",
   "metadata": {},
   "source": [
    "2. Faça um Programa que peça um valor e mostre na tela se o valor é positivo ou negativo."
   ]
  },
  {
   "cell_type": "code",
   "execution_count": 19,
   "metadata": {},
   "outputs": [
    {
     "name": "stdout",
     "output_type": "stream",
     "text": [
      "O número é positivo\n"
     ]
    }
   ],
   "source": [
    "number01 = float(input(\"Informe um número: \"))\n",
    "\n",
    "\n",
    "def exibirNumber(number01):\n",
    "  if (number01 > 0):\n",
    "    print(\"O número é positivo\")\n",
    "  elif (number01 == 0):\n",
    "    print(\"O número é neutro\")    \n",
    "  else:\n",
    "    print(\"O número é negativo\")\n",
    "  \n",
    "exibirNumber(number01)"
   ]
  },
  {
   "cell_type": "markdown",
   "metadata": {},
   "source": [
    "3. Faça um Programa que verifique se uma letra digitada é \"F\" ou \"M\". Conforme a letra escrever: F - Feminino, M - Masculino, Sexo Inválido."
   ]
  },
  {
   "cell_type": "code",
   "execution_count": 22,
   "metadata": {},
   "outputs": [
    {
     "name": "stdout",
     "output_type": "stream",
     "text": [
      "Sexo inválido\n"
     ]
    }
   ],
   "source": [
    "sexo = input('digite seu sexo: M ou F ')\n",
    "genero = sexo.upper()\n",
    "if genero == \"M\":\n",
    "  print('Sexo masculino')\n",
    "elif genero == \"F\":\n",
    "  print('Sexo feminino')\n",
    "else:\n",
    "  print('Sexo inválido')"
   ]
  },
  {
   "cell_type": "markdown",
   "metadata": {},
   "source": [
    "4. Faça um Programa que verifique se uma letra digitada é vogal ou consoante."
   ]
  },
  {
   "cell_type": "code",
   "execution_count": 32,
   "metadata": {},
   "outputs": [
    {
     "name": "stdout",
     "output_type": "stream",
     "text": [
      "Consoante\n"
     ]
    }
   ],
   "source": [
    "vogais = ['a', 'e', 'i', 'o', 'u']\n",
    "\n",
    "letra = input('Informe uma letra: ')\n",
    "\n",
    "print('Vogal' if letra.lower() in vogais else 'Consoante')"
   ]
  },
  {
   "cell_type": "markdown",
   "metadata": {},
   "source": [
    "5. Faça um programa para a leitura de duas notas parciais de um aluno. O programa deve calcular a média alcançada por aluno e apresentar:\n",
    "- A mensagem \"Aprovado\", se a média alcançada for maior ou igual a sete;\n",
    "- A mensagem \"Reprovado\", se a média for menor do que sete;\n",
    "- A mensagem \"Aprovado com Distinção\", se a média for igual a dez."
   ]
  },
  {
   "cell_type": "code",
   "execution_count": 40,
   "metadata": {},
   "outputs": [
    {
     "name": "stdout",
     "output_type": "stream",
     "text": [
      "Média 7.0. Situação: Aprovado!\n"
     ]
    }
   ],
   "source": [
    "def calcularMedia(nota1, nota2):\n",
    "  resultado = (nota1 + nota2) / 2\n",
    "  if (resultado >= 7 and resultado < 10):\n",
    "    return f\"Média {resultado}. Situação: Aprovado!\"\n",
    "  elif (resultado == 10):\n",
    "    return f\"Média {resultado}. Situação: Aprovado com Dinstinção\"\n",
    "  else:\n",
    "    return f\"Média {resultado}. Situação: Reprovado\"\n",
    "  \n",
    "n1 = float(input(\"Informe a primeira nota: \"))\n",
    "n2 = float(input(\"Informe a segunda nota: \"))\n",
    "print(calcularMedia(n1, n2))"
   ]
  },
  {
   "cell_type": "markdown",
   "metadata": {},
   "source": [
    "6. Faça um Programa que leia três números e mostre o maior deles.\n"
   ]
  },
  {
   "cell_type": "code",
   "execution_count": 46,
   "metadata": {},
   "outputs": [
    {
     "name": "stdout",
     "output_type": "stream",
     "text": [
      "o maior número é 33\n"
     ]
    }
   ],
   "source": [
    "numero1 = int(input(\"digite um número\"))\n",
    "numero2 = int(input(\"digite outro número\"))\n",
    "numero3 = int(input(\"digite mais outro número\"))\n",
    "\n",
    "maior = max(numero1, numero2, numero3)\n",
    "if numero1 == numero2 == numero3:\n",
    " print(\"os números são iguais\")\n",
    "else:\n",
    " print(\"o maior número é\", maior)"
   ]
  },
  {
   "cell_type": "markdown",
   "metadata": {},
   "source": [
    "7. Faça um Programa que leia três números e mostre o maior e o menor deles."
   ]
  },
  {
   "cell_type": "code",
   "execution_count": 50,
   "metadata": {},
   "outputs": [
    {
     "name": "stdout",
     "output_type": "stream",
     "text": [
      "O número maior é 50\n",
      "O número menor é -8\n"
     ]
    }
   ],
   "source": [
    "number = int(input(\"Digite um número.\"))\n",
    "number2 = int(input(\"Digite outro número.\"))\n",
    "number3 = int(input(\"Digite outro número.\"))\n",
    "\n",
    "maior = max(number, number2,number3)\n",
    "if number == number2 == number3:\n",
    "  print(\"Os números são iguais.\")\n",
    "else: \n",
    "  print(f\"O número maior é {maior}\")\n",
    "  \n",
    "menor = min(number, number2, number3)\n",
    "if number == number2 == number3:\n",
    "  print(\"Os números são iguais.\")\n",
    "else: \n",
    "  print(f\"O número menor é {menor}\")"
   ]
  },
  {
   "cell_type": "markdown",
   "metadata": {},
   "source": [
    "8. Faça um programa que pergunte o preço de três produtos e informe qual produto você deve comprar, sabendo que a decisão é sempre pelo mais barato."
   ]
  },
  {
   "cell_type": "code",
   "execution_count": 52,
   "metadata": {},
   "outputs": [
    {
     "name": "stdout",
     "output_type": "stream",
     "text": [
      "1.5\n"
     ]
    }
   ],
   "source": [
    "produtos = []\n",
    "\n",
    "for i in range(3):\n",
    "  produtos.append(float(input(f\"Digite o {i+1} valor:\")))\n",
    "  \n",
    "def decisao(valor):\n",
    "    return min(valor)\n",
    "  \n",
    "print(decisao(produtos))"
   ]
  },
  {
   "cell_type": "markdown",
   "metadata": {},
   "source": [
    "09. Faça um Programa que leia três números e mostre-os em ordem decrescente."
   ]
  },
  {
   "cell_type": "code",
   "execution_count": 57,
   "metadata": {},
   "outputs": [
    {
     "name": "stdout",
     "output_type": "stream",
     "text": [
      "ordem decrescente (50, 10, 9)\n"
     ]
    }
   ],
   "source": [
    "num1=int(input(\"Digite um numero\"))\n",
    "num2=int(input(\"Digite o segundo numero\"))\n",
    "num3=int(input(\"Digite terceiro numero\"))\n",
    "\n",
    "maior = max(num1,num2,num3)\n",
    "menor = min(num1,num2,num3)\n",
    "meio = (num1 + num2 + num3)-maior-menor\n",
    "print(f\"ordem decrescente {maior,meio,menor}\")\n"
   ]
  },
  {
   "cell_type": "code",
   "execution_count": 64,
   "metadata": {},
   "outputs": [
    {
     "name": "stdout",
     "output_type": "stream",
     "text": [
      "[70, 6, 5]\n"
     ]
    }
   ],
   "source": [
    "lista = []\n",
    "for i in range(3):\n",
    "  lista.append(int(input(\"Digite um numero\")))\n",
    "  \n",
    "\n",
    "print(sorted(lista, reverse=True))"
   ]
  },
  {
   "cell_type": "markdown",
   "metadata": {},
   "source": [
    "10. Faça um Programa que pergunte em que turno você estuda. Peça para digitar M-matutino ou V-Vespertino ou N- Noturno. Imprima a mensagem \"Bom Dia!\", \"Boa Tarde!\" ou \"Boa Noite!\" ou \"Valor Inválido!\", conforme o caso."
   ]
  },
  {
   "cell_type": "code",
   "execution_count": 68,
   "metadata": {},
   "outputs": [
    {
     "name": "stdout",
     "output_type": "stream",
     "text": [
      "VALOR INVÁLIDO\n"
     ]
    }
   ],
   "source": [
    "turno = input(\"Em qual turno você estuda? (M matutino,V vespertino, N noturno)\")\n",
    "if turno.upper() ==  'M':\n",
    "  print(\"BOM DIA!\")\n",
    "elif turno.upper() ==  'V':\n",
    "  print(\"BOA TARDE!\")\n",
    "elif turno.upper() ==  'N':\n",
    "  print(\"BOA NOITE!\")\n",
    "else:\n",
    "  print(\"VALOR INVÁLIDO\")\n"
   ]
  },
  {
   "cell_type": "markdown",
   "metadata": {},
   "source": [
    "11. As Organizações Tabajara resolveram dar um aumento de salário aos seus colaboradores e lhe contraram para desenvolver o programa que calculará os reajustes.\n",
    "Faça um programa que recebe o salário de um colaborador e o reajuste segundo o seguinte critério, baseado no salário atual:\n",
    "- salários até R$ 280,00 (incluindo) : aumento de 20%\n",
    "- salários entre R$ 280,00 e R$ 700,00 : aumento de 15%\n",
    "- salários entre R$ 700,00 e R$ 1500,00 : aumento de 10%\n",
    "- salários de R$ 1500,00 em diante : aumento de 5% Após o aumento ser realizado, informe na tela:\n",
    "- o salário antes do reajuste;\n",
    "- o percentual de aumento aplicado;\n",
    "- o valor do aumento;\n",
    "- o novo salário, após o aumento."
   ]
  },
  {
   "cell_type": "code",
   "execution_count": 76,
   "metadata": {},
   "outputs": [
    {
     "name": "stdout",
     "output_type": "stream",
     "text": [
      "Salário atual: 500.0, aumento em reais R$10.0, aumento em 0.40%, Salário após ajuste:R$ 510.0\n"
     ]
    }
   ],
   "source": [
    "def reajuste(salarioAtual, aumento):\n",
    "  pencentualAumento = (aumento / 100)\n",
    "  pencentualPorcem = (100 * aumento/salarioAtual)\n",
    "  aumento = salarioAtual * pencentualAumento\n",
    "  salarioReajustado = salarioAtual + aumento\n",
    "  return f\"Salário atual: {salarioAtual}, aumento em reais R${aumento}, aumento em {pencentualPorcem:.2F}%, Salário após ajuste:R$ {salarioReajustado}\"\n",
    "\n",
    "salarioAtual = float(input(\"Informe seu salário\"))\n",
    "aumento = float(input(\"Informe seu aumento\"))\n",
    "print(reajuste(salarioAtual, aumento))"
   ]
  },
  {
   "cell_type": "markdown",
   "metadata": {},
   "source": [
    "12. Faça um programa para o cálculo de uma folha de pagamento, sabendo que os descontos são do Imposto de Renda, que depende do salário bruto (conforme tabela abaixo) e 3% para o Sindicato e que o FGTS corresponde a 11% do Salário Bruto, mas não é descontado (é a empresa que deposita). O Salário Líquido corresponde ao Salário Bruto menos os descontos. O programa deverá pedir ao usuário o valor da sua hora e a quantidade de horas trabalhadas no mês.\n",
    "Desconto do IR:\n",
    "- Salário Bruto até 900 (inclusive) - isento\n",
    "- Salário Bruto até 1500 (inclusive) - desconto de 5%\n",
    "- Salário Bruto até 2500 (inclusive) - desconto de 10%\n",
    "- Salário Bruto acima de 2500 - desconto de 20% Imprima na tela as informações"
   ]
  },
  {
   "cell_type": "code",
   "execution_count": 98,
   "metadata": {},
   "outputs": [
    {
     "name": "stdout",
     "output_type": "stream",
     "text": [
      "Salário Bruto: 900.00\n",
      "Desconto Sindicato: 27.00\n",
      "Desconto IR: 0.00\n",
      "FGTS: 99.00\n",
      "Salario liquido: 873.00\n"
     ]
    }
   ],
   "source": [
    "def definirSalario(horasTrabalhadas, ganhoHora):\n",
    "  salarioBruto = horasTrabalhadas * ganhoHora\n",
    "  descontoSindicato = salarioBruto * 0.03\n",
    "  fgts = salarioBruto * 0.11\n",
    "  descontoIr = ''\n",
    "  salarioLiquido = 0\n",
    "  if salarioBruto <= 900:\n",
    "    descontoIr = 0\n",
    "    salarioLiquido = salarioBruto - descontoSindicato\n",
    "  elif salarioBruto <= 1500:\n",
    "    descontoIr = salarioBruto * 0.05\n",
    "    salarioLiquido = salarioBruto - descontoSindicato - descontoIr\n",
    "  elif salarioBruto <= 2500:\n",
    "    descontoIr = salarioBruto * 0.10\n",
    "    salarioLiquido = salarioBruto - descontoSindicato - descontoIr\n",
    "  else:\n",
    "    descontoIr = salarioBruto * 0.20\n",
    "    salarioLiquido = salarioBruto - descontoSindicato - descontoIr\n",
    "  \n",
    "  print(f\"Salário Bruto: {salarioBruto:.2f}\")\n",
    "  print(f\"Desconto Sindicato: {descontoSindicato:.2f}\")\n",
    "  print(f\"Desconto IR: {descontoIr:.2f}\")\n",
    "  print(f\"FGTS: {fgts:.2f}\")\n",
    "  print(f\"Salario liquido: {salarioLiquido:.2f}\")\n",
    "  \n",
    "ganhoH = float(input(\"Digite seu ganho por hora: \"))\n",
    "hTrabalhadas = float(input(\"Digite quantas horas você trabalha no mês: \"))\n",
    "definirSalario(hTrabalhadas, ganhoH)"
   ]
  },
  {
   "cell_type": "markdown",
   "metadata": {},
   "source": [
    "13. Faça um Programa que leia um número e exiba o dia correspondente da semana. (1-Domingo, 2- Segunda, etc.), se digitar outro valor deve aparecer valor inválido.\n"
   ]
  },
  {
   "cell_type": "code",
   "execution_count": 82,
   "metadata": {},
   "outputs": [
    {
     "name": "stdout",
     "output_type": "stream",
     "text": [
      "O dia da semana é Quinta-feira.\n"
     ]
    }
   ],
   "source": [
    "num = int(input(\"Digite um número:\"))\n",
    "if num == 1:\n",
    "  print(\"O dia da semana é Domingo.\")\n",
    "elif num == 2:\n",
    "  print(\"O dia da semana é Segunda-feira.\")\n",
    "elif num == 3:\n",
    "  print(\"O dia da semana é Terça-feira.\")\n",
    "elif num == 4:\n",
    "  print(\"O dia da semana é Quarta-feira.\")\n",
    "elif num == 5:\n",
    "  print(\"O dia da semana é Quinta-feira.\")\n",
    "elif num == 6:\n",
    "  print(\"O dia da semana é Sexta-feira.\")\n",
    "elif num == 7:\n",
    "  print(\"O dia da semana é Sábado.\")\n",
    "else:\n",
    "  print(\"Número inválido!\")\n",
    "  "
   ]
  },
  {
   "cell_type": "markdown",
   "metadata": {},
   "source": [
    "14. Faça um programa que lê as duas notas parciais obtidas por um aluno numa disciplina ao longo de um semestre, e calcule a sua média. A atribuição de conceitos obedece à tabela abaix"
   ]
  },
  {
   "cell_type": "code",
   "execution_count": 89,
   "metadata": {},
   "outputs": [
    {
     "name": "stdout",
     "output_type": "stream",
     "text": [
      "1º nota: 5.0\n",
      "2º nota: 8.0\n",
      "Média: 6.5\n",
      "Conceito: C\n",
      "Situação: Aprovado\n"
     ]
    }
   ],
   "source": [
    "notas = []\n",
    "\n",
    "#Lendo as duas notas\n",
    "for i in range(2):\n",
    "  notas.append(float(input(f'Informe a {i+1}º nota: ')))\n",
    "  \n",
    "#Imprimindo a nota\n",
    "for i, nota in enumerate(notas):\n",
    "  print(f'{i+1}º nota: {nota}')\n",
    "  \n",
    "#Média\n",
    "media = sum(notas) / 2\n",
    "\n",
    "#conceito\n",
    "def conceito(valor):\n",
    "  if valor > 9.0:\n",
    "    return 'A'\n",
    "  elif valor > 7.5:\n",
    "    return 'B'\n",
    "  elif valor > 6.0:\n",
    "    return 'C'\n",
    "  elif valor > 4.0:\n",
    "    return 'D'\n",
    "  else: \n",
    "    return 'E'\n",
    "  \n",
    "#Aprovado ou Reprovado\n",
    "def mensagem(valor):\n",
    "  return 'Aprovado' if conceito(valor) in ['A', 'B', 'C'] else 'Reprovado'\n",
    "  \n",
    "#Mostrando os valores\n",
    "print(f'Média: {media}')\n",
    "print(f'Conceito: {conceito(media)}')\n",
    "print(f'Situação: {mensagem(media)}')"
   ]
  },
  {
   "cell_type": "markdown",
   "metadata": {},
   "source": [
    "15. Faça um Programa que peça os 3 lados de um triângulo. O programa deverá informar se os valores podem ser um triângulo. Indique, caso os lados formem um triângulo, se o mesmo é: equilátero, isósceles ou escaleno.\n",
    "Dicas:\n",
    "- Três lados formam um triângulo quando a soma de quaisquer dois lados for maior que o terceiro;\n",
    "- Triângulo Equilátero: três lados iguais;\n",
    "- Triângulo Isósceles: quaisquer dois lados iguais;\n",
    "- Triângulo Escaleno: três lados diferentes;"
   ]
  },
  {
   "cell_type": "code",
   "execution_count": 11,
   "metadata": {},
   "outputs": [
    {
     "name": "stdout",
     "output_type": "stream",
     "text": [
      "Pode ser um triângulo!\n",
      "Triângulo escaleno\n"
     ]
    }
   ],
   "source": [
    "lado1 = float(input('digite um lado do triângulo: '))\n",
    "lado2 = float(input('digite o segundo lado do triângulo: '))\n",
    "lado3 = float(input('digite o terceiro do triângulo: '))\n",
    "triangulo = lado1 + lado2 + lado3\n",
    "\n",
    "if triangulo == 180:\n",
    "  print('Pode ser um triângulo!')\n",
    "  \n",
    "  if lado1 == lado2 and lado1 == lado3:\n",
    "    print('Triângulo equilátero')\n",
    "  elif lado1 != lado2 and lado1 != lado3 and lado2 != lado3:\n",
    "    print('Triângulo escaleno')\n",
    "  else:\n",
    "    print('Triângulo isósceles')\n",
    "\n",
    "else:\n",
    "  print('Não pode ser um triângulo')\n",
    "\n"
   ]
  },
  {
   "cell_type": "markdown",
   "metadata": {},
   "source": [
    "16. Faça um programa que calcule as raízes de uma equação do segundo grau, na forma ax2 + bx + c. O programa deverá pedir os valores de a, b e c e fazer as consistências, informando ao usuário nas seguintes situações:\n",
    "Se o usuário informar o valor de A igual a zero, a equação não é do segundo grau e o programa não deve fazer pedir os demais valores, sendo encerrado;\n",
    "- Se o delta calculado for negativo, a equação não possui raizes reais. Informe ao usuário e encerre o programa;\n",
    "- Se o delta calculado for igual a zero a equação possui apenas uma raiz real; informe-a ao usuário;\n",
    "- Se o delta for positivo, a equação possui duas raiz reais; informe-as ao usuário;"
   ]
  },
  {
   "cell_type": "code",
   "execution_count": null,
   "metadata": {},
   "outputs": [],
   "source": []
  },
  {
   "cell_type": "markdown",
   "metadata": {},
   "source": [
    "17. Faça um Programa que peça um número correspondente a um determinado ano e em seguida informe se este ano é ou não bissexto."
   ]
  },
  {
   "cell_type": "code",
   "execution_count": 80,
   "metadata": {},
   "outputs": [
    {
     "name": "stdout",
     "output_type": "stream",
     "text": [
      "Esse ano não é bissexto\n"
     ]
    }
   ],
   "source": [
    "def bissexto(ano):\n",
    "  if (ano % 4 == 0):\n",
    "    return \"Esse ano é bissexto\"\n",
    "  else:\n",
    "    return \"Esse ano não é bissexto\"\n",
    "  \n",
    "ano = int(input(\"Digite um ano\"))\n",
    "print(bissexto(ano))"
   ]
  },
  {
   "cell_type": "markdown",
   "metadata": {},
   "source": [
    "18. Faça um Programa que peça uma data no formato dd/mm/aaaa e determine se a mesma é uma data válida.\n"
   ]
  },
  {
   "cell_type": "code",
   "execution_count": 15,
   "metadata": {},
   "outputs": [
    {
     "name": "stdout",
     "output_type": "stream",
     "text": [
      "Esta data é inválida :/\n"
     ]
    }
   ],
   "source": [
    "dia = int(input(\"Informe um dia:\"))\n",
    "mes = int(input(\"Informe um mês:\"))\n",
    "ano = int(input(\"Informe um ano\"))\n",
    "if dia >= 1 and dia <32:\n",
    "  if mes >= 1 and mes <13:\n",
    "    if ano > 0:\n",
    "      print(f\"{dia}/{mes}/{ano}; esta data é válida :)\")\n",
    "\n",
    "else:\n",
    "  print(\"Esta data é inválida :/\")"
   ]
  },
  {
   "cell_type": "markdown",
   "metadata": {},
   "source": [
    "19. Faça um Programa que leia um número inteiro menor que 1000 e imprima a quantidade de centenas, dezenas e unidades do mesmo.\n",
    "Observando os termos no plural a colocação do \"e\", da vírgula entre outros. Exemplo:\n",
    "- 326 = 3 centenas, 2 dezenas e 6 unidades\n",
    "- 12 = 1 dezena e 2 unidades Testar com: 326, 300, 100, 320, 310,305, 301, 101, 311, 111, 25, 20, 10, 21, 11, 1, 7 e 16"
   ]
  },
  {
   "cell_type": "code",
   "execution_count": 22,
   "metadata": {},
   "outputs": [
    {
     "name": "stdout",
     "output_type": "stream",
     "text": [
      "619 = 6 centenas, 1 dezenas e 9 unidades\n"
     ]
    }
   ],
   "source": [
    "numero = int(input('Digite um numero menor que 1000: '))\n",
    "if numero < 1000:\n",
    "  centenas = numero //100\n",
    "  dezenas = (numero%100)//10\n",
    "  unidades = numero % 10\n",
    "  print(f'{numero} = {centenas} centenas, {dezenas} dezenas e {unidades} unidades')\n",
    "else:\n",
    "  print('Valor invalido')"
   ]
  },
  {
   "cell_type": "markdown",
   "metadata": {},
   "source": [
    "20. Faça um Programa para leitura de três notas parciais de um aluno. O programa deve calcular a média alcançada por aluno e presentar:\n",
    "- A mensagem \"Aprovado\", se a média for maior ou igual a 7, com a respectiva média alcançada;\n",
    "- A mensagem \"Reprovado\", se a média for menor do que 7, com a respectiva média alcançada;\n",
    "- A mensagem \"Aprovado com Distinção\", se a média for igual a 10."
   ]
  },
  {
   "cell_type": "code",
   "execution_count": null,
   "metadata": {},
   "outputs": [],
   "source": [
    "\"Igual a 05\""
   ]
  },
  {
   "cell_type": "markdown",
   "metadata": {},
   "source": [
    "21. Faça um Programa para um caixa eletrônico. O programa deverá perguntar ao usuário a valor do saque e depois informar quantas notas de cada valor serão fornecidas. As notas disponíveis serão as de 1, 5, 10, 50 e 100 reais. O valor mínimo é de 10 reais e o máximo de 600 reais. O programa não deve se preocupar com a quantidade de notas existentes na máquina.\n",
    "- Exemplo 1: Para sacar a quantia de 256 reais, o programa fornece duas notas de 100, uma nota de 50, uma nota de 5 e uma nota de 1;\n",
    "- Exemplo 2: Para sacar a quantia de 399 reais, o programa fornece três notas de 100, uma nota de 50, quatro notas de 10, uma nota de 5 e quatro notas de 1."
   ]
  },
  {
   "cell_type": "code",
   "execution_count": 35,
   "metadata": {},
   "outputs": [
    {
     "name": "stdout",
     "output_type": "stream",
     "text": [
      "O valor do saque deve estar entre 10 e 600 reais.\n"
     ]
    }
   ],
   "source": [
    "def notas(saque):\n",
    "  notas = [100, 50, 10, 5, 1]\n",
    "  resultado = {}\n",
    "  \n",
    "  for nota in notas:\n",
    "      quantidade = saque // nota\n",
    "      if quantidade > 0:\n",
    "        resultado[nota] = quantidade\n",
    "      \n",
    "      saque %= nota\n",
    "      \n",
    "  return resultado\n",
    "    \n",
    "def main():\n",
    "      try:\n",
    "        saque = int(input(\"Digite o valor do saque (entre 10 e 600 reais):\"))\n",
    "        if saque < 10 or saque > 600:\n",
    "          print(\"O valor do saque deve estar entre 10 e 600 reais.\")\n",
    "          return\n",
    "        resultado = notas(saque)\n",
    "        print(\"Notas a serem fornecidas:\")\n",
    "        \n",
    "        for nota, quantidade in resultado.items():\n",
    "          print(f\"R${nota}:{quantidade} nota(s)\")\n",
    "          \n",
    "      except ValueError:\n",
    "        print(\"Por favor, insira um valor numérico válido.\")\n",
    "        \n",
    "main()"
   ]
  },
  {
   "cell_type": "markdown",
   "metadata": {},
   "source": [
    "22. Faça um Programa que peça um número inteiro e determine se ele é par ou impar. Dica: utilize o operador módulo (resto da divisão)."
   ]
  },
  {
   "cell_type": "code",
   "execution_count": 36,
   "metadata": {},
   "outputs": [
    {
     "name": "stdout",
     "output_type": "stream",
     "text": [
      "NÚMERO 10 É PAR\n"
     ]
    }
   ],
   "source": [
    "num = int(input(\"Digite um número:\"))\n",
    "if num % 2 == 0:\n",
    "  print(\"NÚMERO\",num,\"É PAR\")\n",
    "else:\n",
    "  print(\"NÚMERO\",num,\"É ÍMPAR\")"
   ]
  },
  {
   "cell_type": "markdown",
   "metadata": {},
   "source": [
    "23. Faça um Programa que peça um número e informe se o número é inteiro ou decimal. Dica: utilize uma função de arredondamento.\n"
   ]
  },
  {
   "cell_type": "code",
   "execution_count": 49,
   "metadata": {},
   "outputs": [
    {
     "name": "stdout",
     "output_type": "stream",
     "text": [
      "Número inteiro.\n",
      "Número decimal.\n",
      "Encerrado\n"
     ]
    }
   ],
   "source": [
    "while(True):\n",
    " number = input(\"Digite um número:\").replace(\",\",\".\").isnumeric()\n",
    " if number == True:\n",
    "  print(\"Número inteiro.\")\n",
    " else:\n",
    "  print(\"Número decimal.\")\n",
    "  \n",
    " pergunta = input(\"Deseja continuar?\")\n",
    " if pergunta == \"sim\":\n",
    "  continue\n",
    " else:\n",
    "  print(\"Encerrado\")\n",
    "  break"
   ]
  },
  {
   "cell_type": "markdown",
   "metadata": {},
   "source": [
    "24. Faça um Programa que leia 2 números e em seguida pergunte ao usuário qual operação ele deseja realizar. O resultado da operação deve ser acompanhado de uma frase que diga se o número é:\n",
    "- par ou ímpar;\n",
    "- positivo ou negativo;\n",
    "- inteiro ou decimal."
   ]
  },
  {
   "cell_type": "code",
   "execution_count": 52,
   "metadata": {},
   "outputs": [
    {
     "name": "stdout",
     "output_type": "stream",
     "text": [
      " 1 - par ou impar \n",
      "2 - positivo ou negativo \n",
      "3 Inteiro ou decimal\n",
      "numero positivo\n"
     ]
    }
   ],
   "source": [
    "while(True):\n",
    "  numero1 = float(input(\"Digite o primeiro valor\"))\n",
    "  numero2 = float(input(\"Digite o segundo valor\"))\n",
    "\n",
    "  print(\" 1 - par ou impar \\n2 - positivo ou negativo \\n3 Inteiro ou decimal\")\n",
    "  operacao = int(input(\"qual operação voçê deseja realizar?\"))\n",
    "\n",
    "  if operacao == 1:\n",
    "    if numero1 % 2 == 0 and numero2 % 2 == 0:\n",
    "      print(\"Os dois numeros são pares.\")\n",
    "    elif numero1 % 2 != 0 and numero2 % 2 != 0:\n",
    "      print(\"Os dois numeros são impares.\")\n",
    "    else:\n",
    "      print(\"um numero e impar e o outro e par.\")\n",
    "      \n",
    "  elif operacao == 2:\n",
    "    if numero1 > 0 and numero2 > 0:\n",
    "      print(\"numero positivo\")  \n",
    "    elif numero1 < 0 and numero2 < 0:\n",
    "      print(\"numero negativos.\")  \n",
    "    else:\n",
    "      print(\"um numero é positivo e o outro e negativo.\")\n",
    "      \n",
    "  elif operacao == 3:\n",
    "    if numero1.is_integer() and numero2.is_integer():\n",
    "      print(\"Os dois numeros numeros são inteiros.\")\n",
    "    elif not  numero1.is_integer() and not numero2.is_integer():\n",
    "      print(\"Os dois numeros são decimais.\")\n",
    "    else:\n",
    "      print(\"Um numero é decimais e o outro e inteiro.\")\n",
    "  else:\n",
    "    print(\"Operação inválida!\")     \n",
    "    \n",
    "  \n",
    "  continuar = input(\"Quer continuar?(sim/não)\").lower().strip() \n",
    "  if continuar != \"sim\":\n",
    "    break          \n",
    "    "
   ]
  },
  {
   "cell_type": "markdown",
   "metadata": {},
   "source": [
    "25. Faça um programa que faça 5 perguntas para uma pessoa sobre um crime. As perguntas são:\n",
    "- a) \"Telefonou para a vítima?\"\n",
    "- b) \"Esteve no local do crime?\"\n",
    "- c) \"Mora perto da vítima?\"\n",
    "- d) \"Devia para a vítima?\"\n",
    "- e) \"Já trabalhou com a vítima?\" O programa deve no final emitir uma classificação sobre a participação da pessoa no crime. Se a pessoa responder positivamente a 2 questões ela deve ser classificada como \"Suspeita\", entre 3 e 4 como \"Cúmplice\" e 5 como \"Assassino\". Caso contrário, ele será classificado como \"Inocente\"."
   ]
  },
  {
   "cell_type": "code",
   "execution_count": 9,
   "metadata": {},
   "outputs": [
    {
     "name": "stdout",
     "output_type": "stream",
     "text": [
      "Assassino\n"
     ]
    }
   ],
   "source": [
    "perguntas = {\n",
    "  \"Telefonou para a vítima?\": None,\n",
    "  \"Esteve no local do crime?\": None,\n",
    "  \"Mora perto da vítima?\": None,\n",
    "  \"Devia para a vítima?\": None,\n",
    "  \"Já trabalhou com a vítima?\": None,\n",
    "}\n",
    "\n",
    "for pergunta in perguntas:\n",
    "  resposta = input(f'{pergunta} (Sim ou Não)').lower().strip()\n",
    "  perguntas[pergunta] = resposta\n",
    "  \n",
    "respostas = []\n",
    "for valores in perguntas.values():\n",
    "  if valores == 'sim':\n",
    "    respostas.append(valores)\n",
    "    \n",
    "if len(respostas) < 2:\n",
    "  print('Inocente')\n",
    "elif len(respostas) < 3:\n",
    "  print('Suspeito')\n",
    "elif len(respostas) < 5:\n",
    "  print('Cúmplice')\n",
    "else:\n",
    "  print('Assassino')\n",
    "  "
   ]
  },
  {
   "cell_type": "markdown",
   "metadata": {},
   "source": [
    "26. Um posto está vendendo combustíveis com a seguinte tabela de descontos:\n",
    "- Álcool:\n",
    "- até 20 litros, desconto de 3% por litro\n",
    "- acima de 20 litros, desconto de 5% por litro\n",
    "- Gasolina:\n",
    "- até 20 litros, desconto de 4% por litro\n",
    "- acima de 20 litros, desconto de 6% por litro Escreva um algoritmo que leia o número de litros vendidos, o tipo de combustível (codificado da seguinte forma: A-álcool, G-gasolina), calcule e imprima o valor a ser pago pelo cliente sabendo-se que o preço do litro da gasolina é R$ 2,50 o preço do litro do álcool é R$ 1,90."
   ]
  },
  {
   "cell_type": "code",
   "execution_count": 16,
   "metadata": {},
   "outputs": [
    {
     "name": "stdout",
     "output_type": "stream",
     "text": [
      "Valor: Valor inválido\n"
     ]
    }
   ],
   "source": [
    "def combustivel(litros, tipo):\n",
    "  tipo = (tipo.upper()).strip()\n",
    "  preçoA = litros * 1.90\n",
    "  preçoG = litros * 2.50\n",
    "  if tipo == \"A\":\n",
    "    if litros <= 20:\n",
    "      preço = preçoA * 0.97\n",
    "    else:\n",
    "      preço = preçoA * 0.95\n",
    "  elif tipo == \"G\":\n",
    "    if litros <= 20:\n",
    "      preço = preçoG * 0.96\n",
    "    else:\n",
    "      preço = preçoG * 0.94\n",
    "  else:\n",
    "    return \"Valor inválido\"\n",
    "      \n",
    "  return preço\n",
    "      \n",
    "t = input(\"Informe o tipo de combustivel? A/G\")\n",
    "l = float(input(\"Informe a quantidade de litros\"))\n",
    "print(f\"Valor: {combustivel(l, t)}\")\n",
    "\n",
    "\n",
    "    "
   ]
  },
  {
   "cell_type": "markdown",
   "metadata": {},
   "source": [
    "27. Uma fruteira está vendendo frutas com a seguinte tabela de preços:\n",
    "-                       Até 5 Kg           Acima de 5 Kg\n",
    "- Morango         R$ 2,50 por Kg          R$ 2,20 por Kg\n",
    "- Maçã            R$ 1,80 por Kg          R$ 1,50 por Kg\n",
    "\n",
    "Se o cliente comprar mais de 8 Kg em frutas ou o valor total da compra ultrapassar R$ 25,00, receberá ainda um desconto de 10% sobre este total. Escreva um algoritmo para ler a quantidade (em Kg) de morangos e a quantidade (em Kg) de maças adquiridas e escreva o valor a ser pago pelo cliente.\n"
   ]
  },
  {
   "cell_type": "code",
   "execution_count": null,
   "metadata": {},
   "outputs": [],
   "source": []
  },
  {
   "cell_type": "code",
   "execution_count": null,
   "metadata": {},
   "outputs": [],
   "source": []
  },
  {
   "cell_type": "markdown",
   "metadata": {},
   "source": [
    "28. O Hipermercado Tabajara está com uma promoção de carnes que é imperdível. Confira:\n",
    "```\n",
    "                      Até 5 Kg           Acima de 5 Kg\n",
    "- File Duplo      R$ 4,90 por Kg          R$ 5,80 por Kg\n",
    "- Alcatra         R$ 5,90 por Kg          R$ 6,80 por Kg\n",
    "- Picanha         R$ 6,90 por Kg          R$ 7,80 por Kg\n",
    "\n",
    "Para atender a todos os clientes, cada cliente poderá levar apenas um dos tipos de carne da promoção, porém não há limites para a quantidade de carne por cliente. Se compra for feita no cartão Tabajara o cliente receberá ainda um desconto de 5% sobre o total da compra. Escreva um programa que peça o tipo e a quantidade de carne comprada pelo usuário e gere um cupom fiscal, contendo as informações da compra: tipo e quantidade de carne, preço total, tipo de pagamento, valor do desconto e valor a pagar.\n"
   ]
  },
  {
   "cell_type": "code",
   "execution_count": null,
   "metadata": {},
   "outputs": [],
   "source": []
  }
 ],
 "metadata": {
  "kernelspec": {
   "display_name": "Python 3",
   "language": "python",
   "name": "python3"
  },
  "language_info": {
   "codemirror_mode": {
    "name": "ipython",
    "version": 3
   },
   "file_extension": ".py",
   "mimetype": "text/x-python",
   "name": "python",
   "nbconvert_exporter": "python",
   "pygments_lexer": "ipython3",
   "version": "3.12.3"
  }
 },
 "nbformat": 4,
 "nbformat_minor": 2
}
